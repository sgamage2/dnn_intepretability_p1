{
 "cells": [
  {
   "cell_type": "code",
   "execution_count": 1,
   "metadata": {
    "colab": {},
    "colab_type": "code",
    "id": "MRFBC-lwoalW"
   },
   "outputs": [
    {
     "name": "stdout",
     "output_type": "stream",
     "text": [
      "WARNING:tensorflow:From C:\\Users\\Administrator\\anaconda3\\envs\\tensorflow_env\\lib\\site-packages\\tensorflow_core\\python\\compat\\v2_compat.py:88: disable_resource_variables (from tensorflow.python.ops.variable_scope) is deprecated and will be removed in a future version.\n",
      "Instructions for updating:\n",
      "non-resource variables are not supported in the long term\n"
     ]
    }
   ],
   "source": [
    "#import tensorflow as tf\n",
    "import tensorflow.compat.v1 as tf\n",
    "tf.disable_v2_behavior() "
   ]
  },
  {
   "cell_type": "code",
   "execution_count": 2,
   "metadata": {
    "colab": {},
    "colab_type": "code",
    "id": "Ka2CMvEijtOb"
   },
   "outputs": [],
   "source": [
    "from skimage.color import gray2rgb, rgb2gray, label2rgb"
   ]
  },
  {
   "cell_type": "code",
   "execution_count": 3,
   "metadata": {
    "colab": {
     "base_uri": "https://localhost:8080/",
     "height": 67
    },
    "colab_type": "code",
    "id": "XAMjXRfPKvsF",
    "outputId": "a84c64ae-02dd-43d0-8940-a245a4a4d2e0"
   },
   "outputs": [
    {
     "name": "stderr",
     "output_type": "stream",
     "text": [
      "Using TensorFlow backend.\n"
     ]
    }
   ],
   "source": [
    "from keras.datasets import mnist\n",
    "\n",
    "(train_x, train_y), (test_x, test_y) = mnist.load_data()"
   ]
  },
  {
   "cell_type": "code",
   "execution_count": 4,
   "metadata": {
    "colab": {
     "base_uri": "https://localhost:8080/",
     "height": 34
    },
    "colab_type": "code",
    "id": "n_KuePZpLaH5",
    "outputId": "d0b1d367-ad82-41dd-e5f2-7c2201d85993"
   },
   "outputs": [
    {
     "data": {
      "text/plain": [
       "(60000, 28, 28)"
      ]
     },
     "execution_count": 4,
     "metadata": {},
     "output_type": "execute_result"
    }
   ],
   "source": [
    "train_x.shape"
   ]
  },
  {
   "cell_type": "code",
   "execution_count": 5,
   "metadata": {
    "colab": {},
    "colab_type": "code",
    "id": "7OXSdScxEjed"
   },
   "outputs": [],
   "source": [
    "image = gray2rgb(train_x[0].reshape(28,28))"
   ]
  },
  {
   "cell_type": "code",
   "execution_count": 6,
   "metadata": {
    "colab": {
     "base_uri": "https://localhost:8080/",
     "height": 34
    },
    "colab_type": "code",
    "id": "pTwc32OcLbq2",
    "outputId": "dc7eb140-6545-49d1-a2c5-6142879ec4ac"
   },
   "outputs": [
    {
     "data": {
      "text/plain": [
       "(60000,)"
      ]
     },
     "execution_count": 6,
     "metadata": {},
     "output_type": "execute_result"
    }
   ],
   "source": [
    "train_y.shape"
   ]
  },
  {
   "cell_type": "code",
   "execution_count": 7,
   "metadata": {
    "colab": {},
    "colab_type": "code",
    "id": "kWVwDpFdElq3"
   },
   "outputs": [],
   "source": [
    "import matplotlib.pyplot as plt\n",
    "import numpy as np"
   ]
  },
  {
   "cell_type": "code",
   "execution_count": 8,
   "metadata": {
    "colab": {
     "base_uri": "https://localhost:8080/",
     "height": 364
    },
    "colab_type": "code",
    "id": "HS03x-xuE8Jc",
    "outputId": "697a1d71-a3b6-4dee-b1f9-48563038b4b8"
   },
   "outputs": [
    {
     "data": {
      "text/plain": [
       "<matplotlib.image.AxesImage at 0x1ff3b49be88>"
      ]
     },
     "execution_count": 8,
     "metadata": {},
     "output_type": "execute_result"
    },
    {
     "data": {
      "image/png": "[encoded data removed]",
      "text/plain": [
       "<Figure size 432x288 with 1 Axes>"
      ]
     },
     "metadata": {
      "needs_background": "light"
     },
     "output_type": "display_data"
    }
   ],
   "source": [
    "plt.imshow(image)"
   ]
  },
  {
   "cell_type": "code",
   "execution_count": 9,
   "metadata": {
    "colab": {},
    "colab_type": "code",
    "id": "NkXsvID2Gad_"
   },
   "outputs": [],
   "source": [
    "train_y_new = []\n",
    "\n",
    "for i in train_y:\n",
    "  l =[0]*10\n",
    "  l[i] = 1\n",
    "  train_y_new.append(l)"
   ]
  },
  {
   "cell_type": "code",
   "execution_count": 10,
   "metadata": {
    "colab": {},
    "colab_type": "code",
    "id": "oDwWO_gzGoGy"
   },
   "outputs": [],
   "source": [
    "train_y = np.array(train_y_new)"
   ]
  },
  {
   "cell_type": "code",
   "execution_count": 11,
   "metadata": {
    "colab": {
     "base_uri": "https://localhost:8080/",
     "height": 34
    },
    "colab_type": "code",
    "id": "aIOVP2O0GrWm",
    "outputId": "9ad0699f-5dde-4314-dcaf-ac6f7761f5e3"
   },
   "outputs": [
    {
     "data": {
      "text/plain": [
       "(60000, 10)"
      ]
     },
     "execution_count": 11,
     "metadata": {},
     "output_type": "execute_result"
    }
   ],
   "source": [
    "train_y.shape"
   ]
  },
  {
   "cell_type": "code",
   "execution_count": 12,
   "metadata": {
    "colab": {},
    "colab_type": "code",
    "id": "vMr5INmJLnlu"
   },
   "outputs": [],
   "source": [
    "test_y_new = []\n",
    "\n",
    "for i in test_y:\n",
    "  l =[0]*10\n",
    "  l[i] = 1\n",
    "  test_y_new.append(l)"
   ]
  },
  {
   "cell_type": "code",
   "execution_count": 13,
   "metadata": {
    "colab": {},
    "colab_type": "code",
    "id": "nMeHfQZvLsOF"
   },
   "outputs": [],
   "source": [
    "test_y = np.array(test_y_new)"
   ]
  },
  {
   "cell_type": "code",
   "execution_count": 14,
   "metadata": {
    "colab": {
     "base_uri": "https://localhost:8080/",
     "height": 34
    },
    "colab_type": "code",
    "id": "ZpnLzO9gLvnV",
    "outputId": "e926e80e-d7b2-4301-c007-77921f3ef895"
   },
   "outputs": [
    {
     "data": {
      "text/plain": [
       "(10000, 10)"
      ]
     },
     "execution_count": 14,
     "metadata": {},
     "output_type": "execute_result"
    }
   ],
   "source": [
    "test_y.shape"
   ]
  },
  {
   "cell_type": "code",
   "execution_count": 15,
   "metadata": {
    "colab": {},
    "colab_type": "code",
    "id": "JpIFQrzAL62p"
   },
   "outputs": [],
   "source": [
    "train_x = np.stack([gray2rgb(iimg) for iimg in train_x],0)\n",
    "test_x = np.stack([gray2rgb(iimg) for iimg in test_x],0)"
   ]
  },
  {
   "cell_type": "code",
   "execution_count": 16,
   "metadata": {
    "colab": {
     "base_uri": "https://localhost:8080/",
     "height": 34
    },
    "colab_type": "code",
    "id": "PThb_AZzMDDu",
    "outputId": "d9e8285f-08d1-44de-d255-6b3a1109fc05"
   },
   "outputs": [
    {
     "data": {
      "text/plain": [
       "(60000, 28, 28, 3)"
      ]
     },
     "execution_count": 16,
     "metadata": {},
     "output_type": "execute_result"
    }
   ],
   "source": [
    "train_x.shape"
   ]
  },
  {
   "cell_type": "code",
   "execution_count": 17,
   "metadata": {
    "colab": {},
    "colab_type": "code",
    "id": "D0AzI1ppGJpA"
   },
   "outputs": [],
   "source": [
    "batch_size = 128\n",
    "filter_size = 3"
   ]
  },
  {
   "cell_type": "code",
   "execution_count": 18,
   "metadata": {
    "colab": {},
    "colab_type": "code",
    "id": "XwCts5XSG2Xb"
   },
   "outputs": [],
   "source": [
    "x = tf.placeholder(tf.float32,(None, 28,28,3))"
   ]
  },
  {
   "cell_type": "code",
   "execution_count": 19,
   "metadata": {
    "colab": {},
    "colab_type": "code",
    "id": "dGjbj-1KHC9R"
   },
   "outputs": [],
   "source": [
    "y = tf.placeholder(tf.float32,(None,10))\n",
    "result = tf.Variable(tf.random_normal([10]))"
   ]
  },
  {
   "cell_type": "markdown",
   "metadata": {
    "colab": {},
    "colab_type": "code",
    "id": "4hdZQ2nXHE0z"
   },
   "source": [
    "Let the model have three Convolutional Layers\n",
    "\n",
    "The first layer will have 16 3X3 filters.\n",
    "The second layer will have 32 3X3 filters.\n",
    "The third layer will have 64 3X3 filters.\n",
    "\n",
    "Each layer will have a corresponding bias term as well.\n",
    "\n",
    "At the end of each layer will have a max pooling layer performing the pooling operation,The pool will be done by a 2X2 filter.\n",
    "\n",
    "then flatten the output from the last convolution layer to feed it as the input to the fully connected layer."
   ]
  },
  {
   "cell_type": "code",
   "execution_count": 20,
   "metadata": {
    "colab": {},
    "colab_type": "code",
    "id": "6hEonEpXHHVA"
   },
   "outputs": [],
   "source": [
    "#conv layer 1 : input image of dimension 28 X 28 X 3.\n",
    "#The third dimension of the image is the same to be used for the third dimension of the weights\n",
    "#The conv layer 1 gives out 16 activation maps.\n",
    "conv1_weight = tf.Variable(tf.truncated_normal([filter_size,filter_size,3,16],stddev=0.1))\n",
    "conv1_bias = tf.Variable(tf.truncated_normal([16],stddev = 0.1))\n",
    "\n",
    "#conv layer 2 : input is 16 activation maps from conv layer 1.\n",
    "#The conv layer 2 gives out 32 activation maps.\n",
    "conv2_weight = tf.Variable(tf.truncated_normal([filter_size,filter_size,16,32],stddev = 0.1))\n",
    "conv2_bias = tf.Variable(tf.truncated_normal([32],stddev = 0.1))\n",
    "\n",
    "#conv layer 3 : input is 32 activation maps from conv layer 2.\n",
    "#The conv layer 3 gives out 64 activation maps.\n",
    "conv3_weight = tf.Variable(tf.truncated_normal([filter_size,filter_size,32,64],stddev = 0.1))\n",
    "conv3_bias = tf.Variable(tf.truncated_normal([64],stddev=0.1))"
   ]
  },
  {
   "cell_type": "code",
   "execution_count": 21,
   "metadata": {
    "colab": {},
    "colab_type": "code",
    "id": "Sea4T0mnHObP"
   },
   "outputs": [],
   "source": [
    "#At the end of these convolution layers have 4 X 4 X 1 activation maps and 64 of those.\n",
    "#We need to flatten these\n",
    "\n",
    "flatten_weight = tf.Variable(tf.truncated_normal([4*4*64,64],stddev =0.1))\n",
    "flatten_bias = tf.Variable(tf.truncated_normal([64],stddev = 0.1))"
   ]
  },
  {
   "cell_type": "code",
   "execution_count": 22,
   "metadata": {
    "colab": {},
    "colab_type": "code",
    "id": "jC-uA2kOHS9u"
   },
   "outputs": [],
   "source": [
    "#Finally the output layer\n",
    "\n",
    "output_weight = tf.Variable(tf.truncated_normal([64,10],stddev = 0.1))\n",
    "output_bias = tf.Variable(tf.truncated_normal([10],stddev = 0.1))"
   ]
  },
  {
   "cell_type": "code",
   "execution_count": 23,
   "metadata": {
    "colab": {},
    "colab_type": "code",
    "id": "O-I5X4tbHqlY"
   },
   "outputs": [],
   "source": [
    "#Now need to define a wrapper around the tensoflow conv2d function to return the conv layer output\n",
    "#It takes 3 arguments \n",
    "#    1.The input -> x\n",
    "#    2.The weights -> w\n",
    "#    3.The bias -> b\n",
    "#use Relu as the activation function\n",
    "\n",
    "#take the stride as 1\n",
    "stride = 1\n",
    "\n",
    "def convolution_2d(x, w, b):\n",
    "  x = tf.nn.conv2d(x, w, strides=[1, stride, stride, 1], padding='SAME')\n",
    "  \n",
    "  z = tf.nn.bias_add(x,b)\n",
    "  \n",
    "  op = tf.nn.relu(z)\n",
    "  \n",
    "  return op"
   ]
  },
  {
   "cell_type": "code",
   "execution_count": 24,
   "metadata": {
    "colab": {},
    "colab_type": "code",
    "id": "L71AkJNNHUpH"
   },
   "outputs": [],
   "source": [
    "#Now need to define a wrapper around the tensoflow maxpool2d function to return the pooled output\n",
    "#It takes 2 arguments \n",
    "#    1.The input -> x\n",
    "#    2.The kernel size -> k\n",
    "\n",
    "#take the kernel size as 2\n",
    "kernel_size = 2\n",
    "\n",
    "def maxpool_2d(x):\n",
    "  op = tf.nn.max_pool(x, ksize = [1,kernel_size,kernel_size,1], strides = [1,kernel_size,kernel_size,1], padding = 'SAME')\n",
    "  \n",
    "  return op"
   ]
  },
  {
   "cell_type": "code",
   "execution_count": 25,
   "metadata": {
    "colab": {},
    "colab_type": "code",
    "id": "gpN6hfXqHX9Q"
   },
   "outputs": [],
   "source": [
    "#The function for the fully connected layer\n",
    "#It takes 3 arguments \n",
    "#    1.The input -> x\n",
    "#    2.The weights -> w\n",
    "#    3.The bias -> b\n",
    "#use Relu as the activation function\n",
    "\n",
    "def fully_connected_layer(x,w,b):\n",
    "  z = tf.matmul(x,w)\n",
    "  z = tf.add(z,b)\n",
    "  \n",
    "  op = tf.nn.relu(z)\n",
    "  \n",
    "  return op"
   ]
  },
  {
   "cell_type": "code",
   "execution_count": 26,
   "metadata": {
    "colab": {},
    "colab_type": "code",
    "id": "SWGybBIIHaMC"
   },
   "outputs": [],
   "source": [
    "#Output layer\n",
    "#It takes 3 arguments \n",
    "#    1.The input -> x\n",
    "#    2.The weights -> w\n",
    "#    3.The bias -> b\n",
    "\n",
    "def output_layer(x,w,b):\n",
    "  z = tf.matmul(x,w)\n",
    "  z = tf.add(z,b)\n",
    "  return z\n"
   ]
  },
  {
   "cell_type": "code",
   "execution_count": 27,
   "metadata": {
    "colab": {},
    "colab_type": "code",
    "id": "cgjMRyQrHb8h"
   },
   "outputs": [],
   "source": [
    "#Now that have our wrappers ready, we need to create the model\n",
    "\n",
    "def cnn_model(x):\n",
    "  \n",
    "  #creating the first layer\n",
    "  conv1 = convolution_2d(x,conv1_weight,conv1_bias)\n",
    "  conv1 = maxpool_2d(conv1)\n",
    "  \n",
    "  #creating the second layer\n",
    "  conv2 = convolution_2d(conv1,conv2_weight,conv2_bias)\n",
    "  conv2 = maxpool_2d(conv2)\n",
    "  \n",
    "  #creating the third layer\n",
    "  conv3 = convolution_2d(conv2,conv3_weight,conv3_bias)\n",
    "  conv3 = maxpool_2d(conv3)\n",
    "  \n",
    "  #need to reshape the conv3 output to fit the fully connected layer\n",
    "  shape_fully_connected = flatten_weight.get_shape().as_list()[0]\n",
    "  \n",
    "  fully_connected = tf.reshape(conv3,[-1,shape_fully_connected])\n",
    "  fully_connected_output = fully_connected_layer(fully_connected, flatten_weight, flatten_bias)\n",
    "  \n",
    "  #Output Layer for the class prediction\n",
    "  output = output_layer(fully_connected_output, output_weight, output_bias)\n",
    "  \n",
    "  return output"
   ]
  },
  {
   "cell_type": "code",
   "execution_count": 28,
   "metadata": {
    "colab": {
     "base_uri": "https://localhost:8080/",
     "height": 171
    },
    "colab_type": "code",
    "id": "PVwFUMJeHe3Z",
    "outputId": "34580add-2e0e-4a15-ccdf-2569a05fdb38"
   },
   "outputs": [
    {
     "name": "stdout",
     "output_type": "stream",
     "text": [
      "WARNING:tensorflow:From <ipython-input-28-701e03ce5ea3>:9: softmax_cross_entropy_with_logits (from tensorflow.python.ops.nn_ops) is deprecated and will be removed in a future version.\n",
      "Instructions for updating:\n",
      "\n",
      "Future major versions of TensorFlow will allow gradients to flow\n",
      "into the labels input on backprop by default.\n",
      "\n",
      "See `tf.nn.softmax_cross_entropy_with_logits_v2`.\n",
      "\n"
     ]
    }
   ],
   "source": [
    "#now need to write the loss function for the model\n",
    "\n",
    "#learning rate\n",
    "learning_rate = 0.001\n",
    "\n",
    "prediction = cnn_model(x)\n",
    "\n",
    "#using cross entropy loss and softmax activation\n",
    "cost_function = tf.nn.softmax_cross_entropy_with_logits(logits=prediction, labels=y)\n",
    "\n",
    "#take the mean of all the samples in the batch\n",
    "cost = tf.reduce_mean(cost_function)\n",
    "\n",
    "#Using Adam Optimizer\n",
    "optimizer = tf.train.AdamOptimizer(learning_rate = learning_rate)\n",
    "optimizer = optimizer.minimize(cost)"
   ]
  },
  {
   "cell_type": "code",
   "execution_count": 29,
   "metadata": {
    "colab": {},
    "colab_type": "code",
    "id": "FrYfWfQrHgxv"
   },
   "outputs": [],
   "source": [
    "#check for the correctness of the prediction\n",
    "\n",
    "correct_prediction = tf.equal(tf.argmax(prediction,1), tf.argmax(y,1))\n",
    "\n",
    "#calculate over the entire batch\n",
    "\n",
    "accuracy = tf.reduce_mean(tf.cast(correct_prediction,tf.float32))"
   ]
  },
  {
   "cell_type": "code",
   "execution_count": 30,
   "metadata": {
    "colab": {},
    "colab_type": "code",
    "id": "7jABicA6Hvn9"
   },
   "outputs": [],
   "source": [
    "#initialize weights and biases\n",
    "\n",
    "initializer = tf.global_variables_initializer()"
   ]
  },
  {
   "cell_type": "code",
   "execution_count": 31,
   "metadata": {
    "colab": {
     "base_uri": "https://localhost:8080/",
     "height": 34
    },
    "colab_type": "code",
    "id": "ne2evP0LHxn2",
    "outputId": "97381791-fd5a-490f-8ee3-b39a76344c1b"
   },
   "outputs": [
    {
     "data": {
      "text/plain": [
       "(60000, 28, 28, 3)"
      ]
     },
     "execution_count": 31,
     "metadata": {},
     "output_type": "execute_result"
    }
   ],
   "source": [
    "train_x.shape"
   ]
  },
  {
   "cell_type": "code",
   "execution_count": 32,
   "metadata": {
    "colab": {
     "base_uri": "https://localhost:8080/",
     "height": 378
    },
    "colab_type": "code",
    "id": "nxF9JRBzH3sb",
    "outputId": "aa6afb5a-7dab-4bc7-f062-5da2419ea52e"
   },
   "outputs": [
    {
     "data": {
      "text/plain": [
       "Text(0.5, 1.0, 'Output Class is : [0 0 0 0 1 0 0 0 0 0]')"
      ]
     },
     "execution_count": 32,
     "metadata": {},
     "output_type": "execute_result"
    },
    {
     "data": {
      "image/png": "[encoded data removed]",
      "text/plain": [
       "<Figure size 432x288 with 1 Axes>"
      ]
     },
     "metadata": {
      "needs_background": "light"
     },
     "output_type": "display_data"
    }
   ],
   "source": [
    "train1 = train_x[2]\n",
    "\n",
    "train1.shape\n",
    "train1 = rgb2gray(train1)\n",
    "output_label_new  = train_y[2]\n",
    "plt.imshow(train1)\n",
    "plt.title(\"Output Class is : \"+str(output_label_new))"
   ]
  },
  {
   "cell_type": "code",
   "execution_count": 33,
   "metadata": {
    "colab": {},
    "colab_type": "code",
    "id": "HmpFTsDGIG4V"
   },
   "outputs": [],
   "source": [
    "number_of_epochs = 50\n",
    "number_of_batches = len(train_x)//batch_size"
   ]
  },
  {
   "cell_type": "code",
   "execution_count": 34,
   "metadata": {
    "colab": {},
    "colab_type": "code",
    "id": "7JpGmJZYJXpw"
   },
   "outputs": [],
   "source": [
    "sess = tf.Session()\n",
    "\n",
    "#initialize all the global variables\n",
    "sess.run(initializer)"
   ]
  },
  {
   "cell_type": "code",
   "execution_count": 35,
   "metadata": {
    "colab": {
     "base_uri": "https://localhost:8080/",
     "height": 857
    },
    "colab_type": "code",
    "id": "D5XrmB7YI4bl",
    "outputId": "8fa122ca-3c50-4990-a2b7-a274af50cf70"
   },
   "outputs": [
    {
     "name": "stdout",
     "output_type": "stream",
     "text": [
      "Epoch:  0  : TrainLoss:  1.4358148152589734  TrainAccuracy:  0.848808092948718  ValidLoss:  0.21133311  ValidAccuracy :  0.9435\n",
      "Epoch:  1  : TrainLoss:  0.16217782027008507  TrainAccuracy:  0.9546107104700855  ValidLoss:  0.1265278  ValidAccuracy :  0.9634\n",
      "Epoch:  2  : TrainLoss:  0.09307295095143664  TrainAccuracy:  0.9729567307692307  ValidLoss:  0.09527994  ValidAccuracy :  0.9719\n",
      "Epoch:  3  : TrainLoss:  0.06332653888497371  TrainAccuracy:  0.9810196314102564  ValidLoss:  0.10328462  ValidAccuracy :  0.9725\n",
      "Epoch:  4  : TrainLoss:  0.047767387931662984  TrainAccuracy:  0.9855435363247863  ValidLoss:  0.07972565  ValidAccuracy :  0.9773\n",
      "Epoch:  5  : TrainLoss:  0.03865348762835318  TrainAccuracy:  0.9877136752136753  ValidLoss:  0.07221011  ValidAccuracy :  0.981\n",
      "Epoch:  6  : TrainLoss:  0.03258555096849743  TrainAccuracy:  0.9889489850427351  ValidLoss:  0.09028023  ValidAccuracy :  0.9774\n",
      "Epoch:  7  : TrainLoss:  0.03393255986085358  TrainAccuracy:  0.9888488247863247  ValidLoss:  0.07794191  ValidAccuracy :  0.9809\n",
      "Epoch:  8  : TrainLoss:  0.030740551875309254  TrainAccuracy:  0.9898671207264957  ValidLoss:  0.075216785  ValidAccuracy :  0.9807\n",
      "Epoch:  9  : TrainLoss:  0.03091702928574324  TrainAccuracy:  0.9901842948717948  ValidLoss:  0.076773226  ValidAccuracy :  0.9801\n",
      "Epoch:  10  : TrainLoss:  0.030061280902082724  TrainAccuracy:  0.9900507478632479  ValidLoss:  0.05931384  ValidAccuracy :  0.9842\n",
      "Epoch:  11  : TrainLoss:  0.026283850603933512  TrainAccuracy:  0.9914863782051282  ValidLoss:  0.06605175  ValidAccuracy :  0.9846\n",
      "Epoch:  12  : TrainLoss:  0.023072547739743602  TrainAccuracy:  0.9921207264957265  ValidLoss:  0.087658465  ValidAccuracy :  0.9816\n",
      "Epoch:  13  : TrainLoss:  0.020442256685744054  TrainAccuracy:  0.993339342948718  ValidLoss:  0.06852555  ValidAccuracy :  0.9848\n",
      "Epoch:  14  : TrainLoss:  0.020423315388811817  TrainAccuracy:  0.9930555555555556  ValidLoss:  0.1000623  ValidAccuracy :  0.9805\n",
      "Epoch:  15  : TrainLoss:  0.024225896387982674  TrainAccuracy:  0.9928719284188035  ValidLoss:  0.09204668  ValidAccuracy :  0.9806\n",
      "Epoch:  16  : TrainLoss:  0.020777076807550372  TrainAccuracy:  0.9933226495726496  ValidLoss:  0.061993018  ValidAccuracy :  0.9859\n",
      "Epoch:  17  : TrainLoss:  0.018476838150510322  TrainAccuracy:  0.9943910256410257  ValidLoss:  0.07280537  ValidAccuracy :  0.983\n",
      "Epoch:  18  : TrainLoss:  0.018526180122780986  TrainAccuracy:  0.9941072382478633  ValidLoss:  0.08266319  ValidAccuracy :  0.984\n",
      "Epoch:  19  : TrainLoss:  0.023670625540913363  TrainAccuracy:  0.9930388621794872  ValidLoss:  0.09999414  ValidAccuracy :  0.9812\n",
      "Epoch:  20  : TrainLoss:  0.015450475849534125  TrainAccuracy:  0.9949752938034188  ValidLoss:  0.06415172  ValidAccuracy :  0.9878\n",
      "Epoch:  21  : TrainLoss:  0.01685577900970198  TrainAccuracy:  0.9945579594017094  ValidLoss:  0.07461245  ValidAccuracy :  0.9851\n",
      "Epoch:  22  : TrainLoss:  0.019424317066930524  TrainAccuracy:  0.9942240918803419  ValidLoss:  0.060081817  ValidAccuracy :  0.986\n",
      "Epoch:  23  : TrainLoss:  0.017500772566425037  TrainAccuracy:  0.994407719017094  ValidLoss:  0.06402403  ValidAccuracy :  0.9865\n",
      "Epoch:  24  : TrainLoss:  0.01598706683214328  TrainAccuracy:  0.9954093215811965  ValidLoss:  0.09021132  ValidAccuracy :  0.984\n",
      "Epoch:  25  : TrainLoss:  0.015278275280333105  TrainAccuracy:  0.9955261752136753  ValidLoss:  0.0784109  ValidAccuracy :  0.9863\n",
      "Epoch:  26  : TrainLoss:  0.01244245046329824  TrainAccuracy:  0.9962606837606838  ValidLoss:  0.10269436  ValidAccuracy :  0.9826\n",
      "Epoch:  27  : TrainLoss:  0.015323176283350472  TrainAccuracy:  0.9953592414529915  ValidLoss:  0.08330777  ValidAccuracy :  0.9849\n",
      "Epoch:  28  : TrainLoss:  0.010681195413334628  TrainAccuracy:  0.9968282585470085  ValidLoss:  0.09366103  ValidAccuracy :  0.9853\n",
      "Epoch:  29  : TrainLoss:  0.013081549663800632  TrainAccuracy:  0.9962606837606838  ValidLoss:  0.070248194  ValidAccuracy :  0.9866\n",
      "Epoch:  30  : TrainLoss:  0.013716998069617719  TrainAccuracy:  0.9961772168803419  ValidLoss:  0.0929593  ValidAccuracy :  0.9856\n",
      "Epoch:  31  : TrainLoss:  0.01750166660002598  TrainAccuracy:  0.9949752938034188  ValidLoss:  0.07913212  ValidAccuracy :  0.9862\n",
      "Epoch:  32  : TrainLoss:  0.009928453039314129  TrainAccuracy:  0.996895032051282  ValidLoss:  0.08812592  ValidAccuracy :  0.9866\n",
      "Epoch:  33  : TrainLoss:  0.011132853257291095  TrainAccuracy:  0.9968783386752137  ValidLoss:  0.09427607  ValidAccuracy :  0.9864\n",
      "Epoch:  34  : TrainLoss:  0.00992470835807965  TrainAccuracy:  0.997245592948718  ValidLoss:  0.094626315  ValidAccuracy :  0.9869\n",
      "Epoch:  35  : TrainLoss:  0.01317551969514721  TrainAccuracy:  0.9963942307692307  ValidLoss:  0.11741233  ValidAccuracy :  0.9841\n",
      "Epoch:  36  : TrainLoss:  0.010264455919910284  TrainAccuracy:  0.9970786591880342  ValidLoss:  0.09217733  ValidAccuracy :  0.9862\n",
      "Epoch:  37  : TrainLoss:  0.009969475585617091  TrainAccuracy:  0.9975293803418803  ValidLoss:  0.12603472  ValidAccuracy :  0.9843\n",
      "Epoch:  38  : TrainLoss:  0.013997002948464095  TrainAccuracy:  0.9964943910256411  ValidLoss:  0.09385027  ValidAccuracy :  0.9863\n",
      "Epoch:  39  : TrainLoss:  0.01176894966766741  TrainAccuracy:  0.9970285790598291  ValidLoss:  0.088614255  ValidAccuracy :  0.9881\n",
      "Epoch:  40  : TrainLoss:  0.014167253293257987  TrainAccuracy:  0.9964776976495726  ValidLoss:  0.1090817  ValidAccuracy :  0.9856\n",
      "Epoch:  41  : TrainLoss:  0.011108001304126923  TrainAccuracy:  0.997245592948718  ValidLoss:  0.080263406  ValidAccuracy :  0.9887\n",
      "Epoch:  42  : TrainLoss:  0.0104333390863305  TrainAccuracy:  0.9972288995726496  ValidLoss:  0.09953461  ValidAccuracy :  0.9874\n",
      "Epoch:  43  : TrainLoss:  0.010258649776657745  TrainAccuracy:  0.997512686965812  ValidLoss:  0.08019611  ValidAccuracy :  0.9888\n",
      "Epoch:  44  : TrainLoss:  0.007631998083901227  TrainAccuracy:  0.9979467147435898  ValidLoss:  0.12466161  ValidAccuracy :  0.9861\n",
      "Epoch:  45  : TrainLoss:  0.008359099239584942  TrainAccuracy:  0.9979300213675214  ValidLoss:  0.08525543  ValidAccuracy :  0.9883\n",
      "Epoch:  46  : TrainLoss:  0.010046764706434511  TrainAccuracy:  0.9973457532051282  ValidLoss:  0.12656383  ValidAccuracy :  0.9861\n",
      "Epoch:  47  : TrainLoss:  0.01916286268729896  TrainAccuracy:  0.9959268162393162  ValidLoss:  0.12540318  ValidAccuracy :  0.9864\n",
      "Epoch:  48  : TrainLoss:  0.012877626752363596  TrainAccuracy:  0.997245592948718  ValidLoss:  0.109736815  ValidAccuracy :  0.9879\n",
      "Epoch:  49  : TrainLoss:  0.005995987577345034  TrainAccuracy:  0.9984475160256411  ValidLoss:  0.09519031  ValidAccuracy :  0.9883\n"
     ]
    }
   ],
   "source": [
    "#creating the arrays to record the loss and accuracy\n",
    "training_loss = []\n",
    "training_accuracy = []\n",
    "\n",
    "validation_losses = []\n",
    "validation_accuracies = []\n",
    "\n",
    "summary_writer = tf.summary.FileWriter('./Output', sess.graph)\n",
    "\n",
    "#loop over all the epochs\n",
    "\n",
    "for i in range(number_of_epochs):\n",
    "\n",
    "  #for each batch\n",
    "  train_loss = 0\n",
    "  train_accuracy = 0\n",
    "  for batch in range(number_of_batches):\n",
    "\n",
    "    #need to obtain corresponding x and y for the batch from the train data\n",
    "\n",
    "    lower_limit = batch*batch_size\n",
    "    upper_limit = min((batch+1)*batch_size,len(train_x))\n",
    "\n",
    "    batch_x = train_x[lower_limit:upper_limit]\n",
    "    batch_y = train_y[lower_limit:upper_limit]\n",
    "\n",
    "    #Run the optimizer and\n",
    "    #Calculate the loss and the accuracy\n",
    "    _, l_ ,acc_ = sess.run([optimizer, cost, accuracy],feed_dict={x: batch_x, y: batch_y})\n",
    "    train_loss += l_\n",
    "    train_accuracy += acc_\n",
    "\n",
    "  train_loss /= number_of_batches\n",
    "  train_accuracy /= number_of_batches\n",
    "\n",
    "\n",
    "  #For the validation data\n",
    "  validation_loss, validation_accuracy = sess.run([cost,accuracy],feed_dict={x: test_x, y: test_y})\n",
    "\n",
    "  print(\"Epoch: \",str(i),\" : TrainLoss: \",str(train_loss),\" TrainAccuracy: \",str(train_accuracy), \" ValidLoss: \",str(validation_loss),\" ValidAccuracy : \",str(validation_accuracy))\n",
    "\n",
    "\n",
    "  training_loss.append(train_loss)\n",
    "  training_accuracy.append(train_accuracy)\n",
    "\n",
    "  validation_losses.append(validation_loss)\n",
    "  validation_accuracies.append(validation_accuracy)\n",
    "\n",
    "  summary_writer.close() "
   ]
  },
  {
   "cell_type": "code",
   "execution_count": 36,
   "metadata": {
    "colab": {
     "base_uri": "https://localhost:8080/",
     "height": 34
    },
    "colab_type": "code",
    "id": "tq1TRUoXNKc7",
    "outputId": "ea6a1771-072b-4b51-a994-74a51b24d767"
   },
   "outputs": [
    {
     "data": {
      "text/plain": [
       "(10000, 28, 28, 3)"
      ]
     },
     "execution_count": 36,
     "metadata": {},
     "output_type": "execute_result"
    }
   ],
   "source": [
    "test_x.shape"
   ]
  },
  {
   "cell_type": "code",
   "execution_count": 37,
   "metadata": {
    "colab": {
     "base_uri": "https://localhost:8080/",
     "height": 857
    },
    "colab_type": "code",
    "id": "mFZb22JRJJRg",
    "outputId": "43b6aaad-e7f9-47a1-b5f0-14f2581e47b1"
   },
   "outputs": [
    {
     "name": "stdout",
     "output_type": "stream",
     "text": [
      "Predicted: 6, Output: 6\n",
      "Predicted: 0, Output: 0\n",
      "Predicted: 5, Output: 5\n",
      "Predicted: 4, Output: 4\n",
      "Predicted: 9, Output: 9\n",
      "Predicted: 9, Output: 9\n",
      "Predicted: 2, Output: 2\n",
      "Predicted: 1, Output: 1\n",
      "Predicted: 9, Output: 9\n",
      "Predicted: 4, Output: 4\n",
      "Predicted: 8, Output: 8\n",
      "Predicted: 7, Output: 7\n",
      "Predicted: 3, Output: 3\n",
      "Predicted: 9, Output: 9\n",
      "Predicted: 7, Output: 7\n",
      "Predicted: 4, Output: 4\n",
      "Predicted: 4, Output: 4\n",
      "Predicted: 4, Output: 4\n",
      "Predicted: 9, Output: 9\n",
      "Predicted: 2, Output: 2\n",
      "Predicted: 5, Output: 5\n",
      "Predicted: 4, Output: 4\n",
      "Predicted: 7, Output: 7\n",
      "Predicted: 6, Output: 6\n",
      "Predicted: 7, Output: 7\n",
      "Predicted: 9, Output: 9\n",
      "Predicted: 0, Output: 0\n",
      "Predicted: 5, Output: 5\n",
      "Predicted: 8, Output: 8\n",
      "Predicted: 5, Output: 5\n",
      "Predicted: 6, Output: 6\n",
      "Predicted: 6, Output: 6\n",
      "Predicted: 5, Output: 5\n",
      "Predicted: 7, Output: 7\n",
      "Predicted: 8, Output: 8\n",
      "Predicted: 1, Output: 1\n",
      "Predicted: 0, Output: 0\n",
      "Predicted: 1, Output: 1\n",
      "Predicted: 6, Output: 6\n",
      "Predicted: 4, Output: 4\n",
      "Predicted: 6, Output: 6\n",
      "Predicted: 7, Output: 7\n",
      "Predicted: 3, Output: 3\n",
      "Predicted: 1, Output: 1\n",
      "Predicted: 7, Output: 7\n",
      "Predicted: 1, Output: 1\n",
      "Predicted: 8, Output: 8\n",
      "Predicted: 2, Output: 2\n",
      "Predicted: 0, Output: 0\n",
      "Predicted: 2, Output: 2\n"
     ]
    }
   ],
   "source": [
    "#Make predictions\n",
    "for i in range(100,150):\n",
    "  img = np.reshape(rgb2gray(test_x[i]), (28,28))\n",
    "  # plt.imshow(img)\n",
    "  img = np.reshape(img, (1,28,28,1))\n",
    "  result = cnn_model(test_x[i].reshape(-1,28,28,3).astype(np.float32))\n",
    "\n",
    "  pred = np.array(sess.run(tf.nn.softmax(result))[0])\n",
    "  pred = np.argmax(pred)\n",
    "  output = np.argmax(test_y[i])\n",
    "  print(\"Predicted: {}, Output: {}\".format(pred, output))"
   ]
  },
  {
   "cell_type": "markdown",
   "metadata": {
    "colab": {},
    "colab_type": "code",
    "id": "CuCfSr5IXFBx"
   },
   "source": [
    "#Calculating the Metrics for the Model"
   ]
  },
  {
   "cell_type": "code",
   "execution_count": 38,
   "metadata": {
    "colab": {},
    "colab_type": "code",
    "id": "n7enTKDQXIgn"
   },
   "outputs": [],
   "source": [
    "true_positive = 0\n",
    "true_negative = 0\n",
    "false_positive = 0\n",
    "false_negative = 0"
   ]
  },
  {
   "cell_type": "code",
   "execution_count": 39,
   "metadata": {
    "colab": {},
    "colab_type": "code",
    "id": "2gaZ5uYlX2cL"
   },
   "outputs": [],
   "source": [
    "actual_values = []\n",
    "predicted_values = []"
   ]
  },
  {
   "cell_type": "code",
   "execution_count": 40,
   "metadata": {
    "colab": {},
    "colab_type": "code",
    "id": "yHSF3m9rXcd5"
   },
   "outputs": [
    {
     "name": "stdout",
     "output_type": "stream",
     "text": [
      "Predicted: 7, Output: 7\n",
      "Predicted: 2, Output: 2\n",
      "Predicted: 1, Output: 1\n",
      "Predicted: 0, Output: 0\n",
      "Predicted: 4, Output: 4\n",
      "Predicted: 1, Output: 1\n",
      "Predicted: 4, Output: 4\n",
      "Predicted: 9, Output: 9\n",
      "Predicted: 5, Output: 5\n",
      "Predicted: 9, Output: 9\n",
      "Predicted: 0, Output: 0\n",
      "Predicted: 6, Output: 6\n",
      "Predicted: 9, Output: 9\n",
      "Predicted: 0, Output: 0\n",
      "Predicted: 1, Output: 1\n",
      "Predicted: 5, Output: 5\n",
      "Predicted: 9, Output: 9\n",
      "Predicted: 7, Output: 7\n",
      "Predicted: 3, Output: 3\n",
      "Predicted: 4, Output: 4\n",
      "Predicted: 9, Output: 9\n",
      "Predicted: 6, Output: 6\n",
      "Predicted: 6, Output: 6\n",
      "Predicted: 5, Output: 5\n",
      "Predicted: 4, Output: 4\n",
      "Predicted: 0, Output: 0\n",
      "Predicted: 7, Output: 7\n",
      "Predicted: 4, Output: 4\n",
      "Predicted: 0, Output: 0\n",
      "Predicted: 1, Output: 1\n",
      "Predicted: 3, Output: 3\n",
      "Predicted: 1, Output: 1\n",
      "Predicted: 3, Output: 3\n",
      "Predicted: 4, Output: 4\n",
      "Predicted: 7, Output: 7\n",
      "Predicted: 2, Output: 2\n",
      "Predicted: 7, Output: 7\n",
      "Predicted: 1, Output: 1\n",
      "Predicted: 2, Output: 2\n",
      "Predicted: 1, Output: 1\n",
      "Predicted: 1, Output: 1\n",
      "Predicted: 7, Output: 7\n",
      "Predicted: 4, Output: 4\n",
      "Predicted: 2, Output: 2\n",
      "Predicted: 3, Output: 3\n",
      "Predicted: 5, Output: 5\n",
      "Predicted: 1, Output: 1\n",
      "Predicted: 2, Output: 2\n",
      "Predicted: 4, Output: 4\n",
      "Predicted: 4, Output: 4\n",
      "Predicted: 6, Output: 6\n",
      "Predicted: 3, Output: 3\n",
      "Predicted: 5, Output: 5\n",
      "Predicted: 5, Output: 5\n",
      "Predicted: 6, Output: 6\n",
      "Predicted: 0, Output: 0\n",
      "Predicted: 4, Output: 4\n",
      "Predicted: 1, Output: 1\n",
      "Predicted: 9, Output: 9\n",
      "Predicted: 5, Output: 5\n",
      "Predicted: 7, Output: 7\n",
      "Predicted: 8, Output: 8\n",
      "Predicted: 9, Output: 9\n",
      "Predicted: 3, Output: 3\n",
      "Predicted: 7, Output: 7\n",
      "Predicted: 4, Output: 4\n",
      "Predicted: 6, Output: 6\n",
      "Predicted: 4, Output: 4\n",
      "Predicted: 3, Output: 3\n",
      "Predicted: 0, Output: 0\n",
      "Predicted: 7, Output: 7\n",
      "Predicted: 0, Output: 0\n",
      "Predicted: 2, Output: 2\n",
      "Predicted: 9, Output: 9\n",
      "Predicted: 1, Output: 1\n",
      "Predicted: 7, Output: 7\n",
      "Predicted: 3, Output: 3\n",
      "Predicted: 2, Output: 2\n",
      "Predicted: 8, Output: 9\n",
      "Predicted: 7, Output: 7\n",
      "Predicted: 7, Output: 7\n",
      "Predicted: 6, Output: 6\n",
      "Predicted: 2, Output: 2\n",
      "Predicted: 7, Output: 7\n",
      "Predicted: 8, Output: 8\n",
      "Predicted: 4, Output: 4\n",
      "Predicted: 7, Output: 7\n",
      "Predicted: 3, Output: 3\n",
      "Predicted: 6, Output: 6\n",
      "Predicted: 1, Output: 1\n",
      "Predicted: 3, Output: 3\n",
      "Predicted: 6, Output: 6\n",
      "Predicted: 9, Output: 9\n",
      "Predicted: 3, Output: 3\n",
      "Predicted: 1, Output: 1\n",
      "Predicted: 4, Output: 4\n",
      "Predicted: 1, Output: 1\n",
      "Predicted: 7, Output: 7\n",
      "Predicted: 6, Output: 6\n",
      "Predicted: 9, Output: 9\n"
     ]
    }
   ],
   "source": [
    "i = 0\n",
    "#Make predictions\n",
    "test_set = test_x[0:100]\n",
    "\n",
    "for test_image in test_set:\n",
    "  img = np.reshape(rgb2gray(test_image), (28,28))\n",
    "  # plt.imshow(img)\n",
    "  img = np.reshape(img, (1,28,28,1))\n",
    "  result = cnn_model(test_image.reshape(-1,28,28,3).astype(np.float32))\n",
    "  pred = np.array(sess.run(tf.nn.softmax(result))[0])\n",
    "  pred = np.argmax(pred)\n",
    "  output = np.argmax(test_y[i])\n",
    "  i+=1\n",
    "  actual_values.append(output)\n",
    "  predicted_values.append(pred)\n",
    "  print(\"Predicted: {}, Output: {}\".format(pred, output))"
   ]
  },
  {
   "cell_type": "code",
   "execution_count": 41,
   "metadata": {
    "colab": {
     "base_uri": "https://localhost:8080/",
     "height": 34
    },
    "colab_type": "code",
    "id": "sBHeGIXUbuJI",
    "outputId": "bd036185-eeda-458d-a692-dfa47ec0351a"
   },
   "outputs": [
    {
     "data": {
      "text/plain": [
       "(100,)"
      ]
     },
     "execution_count": 41,
     "metadata": {},
     "output_type": "execute_result"
    }
   ],
   "source": [
    "np.array(actual_values).shape"
   ]
  },
  {
   "cell_type": "code",
   "execution_count": 42,
   "metadata": {
    "colab": {
     "base_uri": "https://localhost:8080/",
     "height": 34
    },
    "colab_type": "code",
    "id": "CqBnMoRjbzGA",
    "outputId": "f986f76f-1a4b-42db-c668-177eb0883851"
   },
   "outputs": [
    {
     "data": {
      "text/plain": [
       "(100,)"
      ]
     },
     "execution_count": 42,
     "metadata": {},
     "output_type": "execute_result"
    }
   ],
   "source": [
    "np.array(predicted_values).shape"
   ]
  },
  {
   "cell_type": "code",
   "execution_count": 43,
   "metadata": {
    "colab": {
     "base_uri": "https://localhost:8080/",
     "height": 34
    },
    "colab_type": "code",
    "id": "BqxrzO-zeJeX",
    "outputId": "bb819549-b457-4384-d71e-c42e79d50141"
   },
   "outputs": [
    {
     "name": "stdout",
     "output_type": "stream",
     "text": [
      "Accurcay is :  0.99\n"
     ]
    }
   ],
   "source": [
    "number_correct = 0\n",
    "for i in range(len(predicted_values)):\n",
    "  if(predicted_values[i]==actual_values[i]):\n",
    "    number_correct +=1\n",
    "print(\"Accurcay is : \",number_correct/len(predicted_values))"
   ]
  },
  {
   "cell_type": "code",
   "execution_count": 44,
   "metadata": {
    "colab": {},
    "colab_type": "code",
    "id": "57QKOplAdxnf"
   },
   "outputs": [],
   "source": [
    "from sklearn.metrics import f1_score"
   ]
  },
  {
   "cell_type": "code",
   "execution_count": 45,
   "metadata": {
    "colab": {
     "base_uri": "https://localhost:8080/",
     "height": 34
    },
    "colab_type": "code",
    "id": "UwuiG8ATd1A7",
    "outputId": "a452f983-633b-45e5-a96f-ed1d288907f4"
   },
   "outputs": [
    {
     "name": "stdout",
     "output_type": "stream",
     "text": [
      "F1 Score is :  0.9907619047619047\n"
     ]
    }
   ],
   "source": [
    "f1score = f1_score(actual_values,predicted_values,average='weighted')\n",
    "\n",
    "print(\"F1 Score is : \",f1score)"
   ]
  },
  {
   "cell_type": "code",
   "execution_count": 46,
   "metadata": {
    "colab": {},
    "colab_type": "code",
    "id": "iLwo5OhXfxXQ"
   },
   "outputs": [],
   "source": [
    "from sklearn.metrics import recall_score"
   ]
  },
  {
   "cell_type": "code",
   "execution_count": 47,
   "metadata": {
    "colab": {
     "base_uri": "https://localhost:8080/",
     "height": 34
    },
    "colab_type": "code",
    "id": "lbWQipeDf0aC",
    "outputId": "da8c35c9-f6e6-4a30-aa21-269aaf768edf"
   },
   "outputs": [
    {
     "name": "stdout",
     "output_type": "stream",
     "text": [
      "Recall Score is :  0.99\n"
     ]
    }
   ],
   "source": [
    "recall = recall_score(actual_values,predicted_values,average = 'weighted')\n",
    "\n",
    "print(\"Recall Score is : \",recall)"
   ]
  },
  {
   "cell_type": "code",
   "execution_count": 48,
   "metadata": {
    "colab": {},
    "colab_type": "code",
    "id": "7ZnB5mzXgI92"
   },
   "outputs": [],
   "source": [
    "from sklearn.metrics import precision_score"
   ]
  },
  {
   "cell_type": "code",
   "execution_count": 49,
   "metadata": {
    "colab": {
     "base_uri": "https://localhost:8080/",
     "height": 34
    },
    "colab_type": "code",
    "id": "VmBGVdTzgL8l",
    "outputId": "b78af619-b7d5-4a40-97fe-e0fe86195281"
   },
   "outputs": [
    {
     "name": "stdout",
     "output_type": "stream",
     "text": [
      "Precision Score is :  0.9933333333333333\n"
     ]
    }
   ],
   "source": [
    "precision = precision_score(actual_values,predicted_values,average = 'weighted')\n",
    "\n",
    "print(\"Precision Score is : \",precision)"
   ]
  },
  {
   "cell_type": "code",
   "execution_count": 50,
   "metadata": {
    "colab": {},
    "colab_type": "code",
    "id": "MtHChJ0fNdDo"
   },
   "outputs": [],
   "source": [
    "import lime\n",
    "from lime import lime_image"
   ]
  },
  {
   "cell_type": "code",
   "execution_count": 51,
   "metadata": {
    "colab": {},
    "colab_type": "code",
    "id": "IWQNk2UPNgT9"
   },
   "outputs": [],
   "source": [
    "def prediction_function(x):\n",
    "  result = cnn_model(x.reshape(-1,28,28,3).astype(np.float32))\n",
    "  return sess.run(tf.nn.softmax(result))"
   ]
  },
  {
   "cell_type": "code",
   "execution_count": 52,
   "metadata": {
    "colab": {},
    "colab_type": "code",
    "id": "1uyxtigQNmaU"
   },
   "outputs": [],
   "source": [
    "explainer = lime_image.LimeImageExplainer()"
   ]
  },
  {
   "cell_type": "code",
   "execution_count": 53,
   "metadata": {
    "colab": {
     "base_uri": "https://localhost:8080/",
     "height": 34
    },
    "colab_type": "code",
    "id": "jvoeCVYgNoNj",
    "outputId": "0f727be3-04a2-4d1f-a548-81605d0580e4"
   },
   "outputs": [
    {
     "name": "stdout",
     "output_type": "stream",
     "text": [
      "(28, 28)\n"
     ]
    }
   ],
   "source": [
    "test_sample = test_x[215]\n",
    "test_sample_for_model = np.reshape(rgb2gray(test_sample),(-1,28,28,1))\n",
    "test_sample = np.reshape(test_sample_for_model,(28,28))\n",
    "print(test_sample.shape)"
   ]
  },
  {
   "cell_type": "code",
   "execution_count": 54,
   "metadata": {
    "colab": {
     "base_uri": "https://localhost:8080/",
     "height": 364
    },
    "colab_type": "code",
    "id": "LhpDkLtNNw_b",
    "outputId": "ced8d3a1-b828-4be2-e136-9a581b4d9e85"
   },
   "outputs": [
    {
     "data": {
      "text/plain": [
       "<matplotlib.image.AxesImage at 0x1ff3a4fd808>"
      ]
     },
     "execution_count": 54,
     "metadata": {},
     "output_type": "execute_result"
    },
    {
     "data": {
      "image/png": "[encoded data removed]",
      "text/plain": [
       "<Figure size 432x288 with 1 Axes>"
      ]
     },
     "metadata": {
      "needs_background": "light"
     },
     "output_type": "display_data"
    }
   ],
   "source": [
    "plt.imshow(test_sample)"
   ]
  },
  {
   "cell_type": "code",
   "execution_count": 55,
   "metadata": {
    "colab": {},
    "colab_type": "code",
    "id": "ATBplq83ODpT"
   },
   "outputs": [],
   "source": [
    "from lime.wrappers.scikit_image import SegmentationAlgorithm"
   ]
  },
  {
   "cell_type": "code",
   "execution_count": 56,
   "metadata": {
    "colab": {},
    "colab_type": "code",
    "id": "MfArF2_cOGj4"
   },
   "outputs": [],
   "source": [
    "segmenter = SegmentationAlgorithm('quickshift', kernel_size=1, max_dist=200, ratio=0.2)"
   ]
  },
  {
   "cell_type": "code",
   "execution_count": 57,
   "metadata": {
    "colab": {},
    "colab_type": "code",
    "id": "6SyIwJxTN4zN"
   },
   "outputs": [
    {
     "data": {
      "application/vnd.jupyter.widget-view+json": {
       "model_id": "024d7225abac4771a80df8362e22f26d",
       "version_major": 2,
       "version_minor": 0
      },
      "text/plain": [
       "HBox(children=(FloatProgress(value=0.0), HTML(value='')))"
      ]
     },
     "metadata": {},
     "output_type": "display_data"
    },
    {
     "name": "stdout",
     "output_type": "stream",
     "text": [
      "\n"
     ]
    }
   ],
   "source": [
    "explanation = explainer.explain_instance(test_x[0], \n",
    "                                         classifier_fn = prediction_function, \n",
    "                                         top_labels=10, hide_color=0, num_samples=100, segmentation_fn=segmenter)"
   ]
  },
  {
   "cell_type": "code",
   "execution_count": 58,
   "metadata": {
    "colab": {
     "base_uri": "https://localhost:8080/",
     "height": 34
    },
    "colab_type": "code",
    "id": "6VtVbd6bNTYD",
    "outputId": "c9e4e586-c713-4998-ac81-267e615b8221"
   },
   "outputs": [
    {
     "data": {
      "text/plain": [
       "(28, 28, 3)"
      ]
     },
     "execution_count": 58,
     "metadata": {},
     "output_type": "execute_result"
    }
   ],
   "source": [
    "sample_test_input = test_x[0]\n",
    "sample_test_input.shape"
   ]
  },
  {
   "cell_type": "code",
   "execution_count": 59,
   "metadata": {
    "colab": {
     "base_uri": "https://localhost:8080/",
     "height": 364
    },
    "colab_type": "code",
    "id": "P_osyb5rNaba",
    "outputId": "59dfaac3-7538-4b2b-a067-795410e7fd5e"
   },
   "outputs": [
    {
     "data": {
      "text/plain": [
       "<matplotlib.image.AxesImage at 0x1ff3a8edf88>"
      ]
     },
     "execution_count": 59,
     "metadata": {},
     "output_type": "execute_result"
    },
    {
     "data": {
      "image/png": "[encoded data removed]",
      "text/plain": [
       "<Figure size 432x288 with 1 Axes>"
      ]
     },
     "metadata": {
      "needs_background": "light"
     },
     "output_type": "display_data"
    }
   ],
   "source": [
    "plt.imshow(np.reshape(rgb2gray(sample_test_input),(28,28)))"
   ]
  },
  {
   "cell_type": "code",
   "execution_count": 60,
   "metadata": {
    "colab": {
     "base_uri": "https://localhost:8080/",
     "height": 34
    },
    "colab_type": "code",
    "id": "Jsk0me1-OIQi",
    "outputId": "b8d30c3c-37a1-4847-df87-f8441913e2de"
   },
   "outputs": [
    {
     "data": {
      "text/plain": [
       "7"
      ]
     },
     "execution_count": 60,
     "metadata": {},
     "output_type": "execute_result"
    }
   ],
   "source": [
    "output = np.argmax(test_y[0])\n",
    "output"
   ]
  },
  {
   "cell_type": "code",
   "execution_count": 61,
   "metadata": {
    "colab": {
     "base_uri": "https://localhost:8080/",
     "height": 216
    },
    "colab_type": "code",
    "id": "ckPOrOlKjRgL",
    "outputId": "3e90b360-af32-4676-e442-c2173d0143d2"
   },
   "outputs": [
    {
     "data": {
      "text/plain": [
       "Text(0.5, 1.0, 'Positive Regions for 7')"
      ]
     },
     "execution_count": 61,
     "metadata": {},
     "output_type": "execute_result"
    },
    {
     "data": {
      "image/png": "[encoded data removed]",
      "text/plain": [
       "<Figure size 432x288 with 1 Axes>"
      ]
     },
     "metadata": {
      "needs_background": "light"
     },
     "output_type": "display_data"
    }
   ],
   "source": [
    "temp, mask = explanation.get_image_and_mask(output, positive_only=True, num_features=10, hide_rest=False, min_weight = 0.01)\n",
    "fig= plt.figure()\n",
    "(ax1) = fig.add_subplot(2,1,1)\n",
    "ax1.imshow(label2rgb(mask,temp, bg_label = 0), interpolation = 'nearest')\n",
    "ax1.set_title('Positive Regions for {}'.format(output))"
   ]
  },
  {
   "cell_type": "code",
   "execution_count": 62,
   "metadata": {
    "colab": {},
    "colab_type": "code",
    "id": "YBGLDrHvSwTv"
   },
   "outputs": [],
   "source": [
    "fig.savefig(\"sample_input_explanation.jpeg\")"
   ]
  },
  {
   "cell_type": "code",
   "execution_count": 63,
   "metadata": {
    "colab": {
     "base_uri": "https://localhost:8080/",
     "height": 378
    },
    "colab_type": "code",
    "id": "SvetuUNsNxC3",
    "outputId": "8b26207f-ba51-4f7e-8fc4-0f80c8f78c60"
   },
   "outputs": [
    {
     "data": {
      "text/plain": [
       "Text(0.5, 1.0, 'Positive and Negative Regions for 7')"
      ]
     },
     "execution_count": 63,
     "metadata": {},
     "output_type": "execute_result"
    },
    {
     "data": {
      "image/png": "[encoded data removed]",
      "text/plain": [
       "<Figure size 432x288 with 1 Axes>"
      ]
     },
     "metadata": {
      "needs_background": "light"
     },
     "output_type": "display_data"
    }
   ],
   "source": [
    "temp1, mask1 = explanation.get_image_and_mask(output, positive_only=False, num_features=10, hide_rest=False, min_weight = 0.01)\n",
    "(ax2) = plt.subplot()\n",
    "ax2.imshow(label2rgb(mask1,temp1, bg_label = 0), interpolation = 'nearest')\n",
    "ax2.set_title('Positive and Negative Regions for {}'.format(output))"
   ]
  },
  {
   "cell_type": "code",
   "execution_count": 64,
   "metadata": {
    "colab": {},
    "colab_type": "code",
    "id": "7b8uMgGrRG50"
   },
   "outputs": [],
   "source": [
    "def add_noise(image):\n",
    "  row,col,ch = image.shape\n",
    "  s_vs_p = 0.5\n",
    "  amount = 0.01\n",
    "  out = np.copy(image)\n",
    "  # Salt mode\n",
    "  num_salt = np.ceil(amount * image.size * s_vs_p)\n",
    "  coords = [np.random.randint(0, i - 1, int(num_salt))\n",
    "          for i in image.shape]\n",
    "  out[coords] = 1\n",
    "\n",
    "  # Pepper mode\n",
    "  num_pepper = np.ceil(amount* image.size * (1. - s_vs_p))\n",
    "  coords = [np.random.randint(0, i - 1, int(num_pepper))\n",
    "          for i in image.shape]\n",
    "  out[coords] = 0\n",
    "  return out"
   ]
  },
  {
   "cell_type": "code",
   "execution_count": 65,
   "metadata": {
    "colab": {},
    "colab_type": "code",
    "id": "fVLJWLdlRM37"
   },
   "outputs": [
    {
     "name": "stderr",
     "output_type": "stream",
     "text": [
      "C:\\Users\\Administrator\\anaconda3\\envs\\tensorflow_env\\lib\\site-packages\\ipykernel_launcher.py:10: FutureWarning: Using a non-tuple sequence for multidimensional indexing is deprecated; use `arr[tuple(seq)]` instead of `arr[seq]`. In the future this will be interpreted as an array index, `arr[np.array(seq)]`, which will result either in an error or a different result.\n",
      "  # Remove the CWD from sys.path while we load stuff.\n",
      "C:\\Users\\Administrator\\anaconda3\\envs\\tensorflow_env\\lib\\site-packages\\ipykernel_launcher.py:16: FutureWarning: Using a non-tuple sequence for multidimensional indexing is deprecated; use `arr[tuple(seq)]` instead of `arr[seq]`. In the future this will be interpreted as an array index, `arr[np.array(seq)]`, which will result either in an error or a different result.\n",
      "  app.launch_new_instance()\n"
     ]
    }
   ],
   "source": [
    "noisy_input = add_noise(sample_test_input)"
   ]
  },
  {
   "cell_type": "code",
   "execution_count": 66,
   "metadata": {
    "colab": {
     "base_uri": "https://localhost:8080/",
     "height": 34
    },
    "colab_type": "code",
    "id": "KTtiTXaxReHX",
    "outputId": "aed01e65-bfb2-4d0d-82a3-86183ee6c258"
   },
   "outputs": [
    {
     "data": {
      "text/plain": [
       "(28, 28, 3)"
      ]
     },
     "execution_count": 66,
     "metadata": {},
     "output_type": "execute_result"
    }
   ],
   "source": [
    "noisy_input.shape"
   ]
  },
  {
   "cell_type": "code",
   "execution_count": 67,
   "metadata": {
    "colab": {
     "base_uri": "https://localhost:8080/",
     "height": 364
    },
    "colab_type": "code",
    "id": "hFU5O7mMRf2Y",
    "outputId": "5349f686-a9e9-41dd-bae1-70edf3685f41"
   },
   "outputs": [
    {
     "data": {
      "text/plain": [
       "<matplotlib.image.AxesImage at 0x1ff3e1fed48>"
      ]
     },
     "execution_count": 67,
     "metadata": {},
     "output_type": "execute_result"
    },
    {
     "data": {
      "image/png": "[encoded data removed]",
      "text/plain": [
       "<Figure size 432x288 with 1 Axes>"
      ]
     },
     "metadata": {
      "needs_background": "light"
     },
     "output_type": "display_data"
    }
   ],
   "source": [
    "plt.imshow(np.reshape(rgb2gray(noisy_input),(28,28)))"
   ]
  },
  {
   "cell_type": "code",
   "execution_count": 68,
   "metadata": {
    "colab": {},
    "colab_type": "code",
    "id": "FMwYF2X7Rj1Z"
   },
   "outputs": [],
   "source": [
    "#from skimage.measure import structural_similarity as ssim\n",
    "from skimage import measure\n",
    "#import cv2"
   ]
  },
  {
   "cell_type": "code",
   "execution_count": 69,
   "metadata": {
    "colab": {},
    "colab_type": "code",
    "id": "oYT3v0KqR8iN"
   },
   "outputs": [],
   "source": [
    "def mse(imageA, imageB):\n",
    "\t# the 'Mean Squared Error' between the two images is the\n",
    "\t# sum of the squared difference between the two images;\n",
    "\t# NOTE: the two images must have the same dimension\n",
    "\terr = np.sum((imageA.astype(\"float\") - imageB.astype(\"float\")) ** 2)\n",
    "\terr /= float(imageA.shape[0] * imageA.shape[1])\n",
    "\t\n",
    "\t# return the MSE, the lower the error, the more \"similar\"\n",
    "\t# the two images are\n",
    "\treturn err\n",
    "\n",
    "def compare_images(imageA, imageB, title):\n",
    "  # compute the mean squared error and structural similarity\n",
    "  # index for the images\n",
    "  m = mse(imageA, imageB)\n",
    "  #s = ssim(imageA, imageB,multichannel=True)\n",
    "  s = measure.compare_ssim(imageA, imageB,multichannel=True)\n",
    "\n",
    "  # setup the figure\n",
    "  fig = plt.figure(title)\n",
    "  plt.suptitle(\"MSE: %.2f, SSIM: %.2f\" % (m, s))\n",
    "\n",
    "  # show first image\n",
    "  ax = fig.add_subplot(1, 2, 1)\n",
    "  plt.imshow(imageA, cmap = plt.cm.gray)\n",
    "  plt.axis(\"off\")\n",
    "\n",
    "  # show the second image\n",
    "  ax = fig.add_subplot(1, 2, 2)\n",
    "  plt.imshow(imageB, cmap = plt.cm.gray)\n",
    "  plt.axis(\"off\")\n",
    "\n",
    "  # show the images\n",
    "  plt.show() \n",
    "  return m,s"
   ]
  },
  {
   "cell_type": "code",
   "execution_count": 70,
   "metadata": {
    "colab": {
     "base_uri": "https://localhost:8080/",
     "height": 391
    },
    "colab_type": "code",
    "id": "w0bnXCuoSGGH",
    "outputId": "d28ab0cd-b058-406f-d3a1-d0ea740ceb59"
   },
   "outputs": [
    {
     "name": "stderr",
     "output_type": "stream",
     "text": [
      "C:\\Users\\Administrator\\anaconda3\\envs\\tensorflow_env\\lib\\site-packages\\ipykernel_launcher.py:17: UserWarning: DEPRECATED: skimage.measure.compare_ssim has been moved to skimage.metrics.structural_similarity. It will be removed from skimage.measure in version 0.18.\n"
     ]
    },
    {
     "data": {
      "image/png": "[encoded data removed]",
      "text/plain": [
       "<Figure size 432x288 with 2 Axes>"
      ]
     },
     "metadata": {
      "needs_background": "light"
     },
     "output_type": "display_data"
    }
   ],
   "source": [
    "mse1,s1 = compare_images(sample_test_input,noisy_input,\"Image Difference\")"
   ]
  },
  {
   "cell_type": "code",
   "execution_count": 71,
   "metadata": {
    "colab": {},
    "colab_type": "code",
    "id": "mhb0gTHHSOkE"
   },
   "outputs": [
    {
     "data": {
      "application/vnd.jupyter.widget-view+json": {
       "model_id": "c580bfe63f594fa990b54dbc7307beba",
       "version_major": 2,
       "version_minor": 0
      },
      "text/plain": [
       "HBox(children=(FloatProgress(value=0.0), HTML(value='')))"
      ]
     },
     "metadata": {},
     "output_type": "display_data"
    },
    {
     "name": "stdout",
     "output_type": "stream",
     "text": [
      "\n"
     ]
    }
   ],
   "source": [
    "explanation = explainer.explain_instance(noisy_input, \n",
    "                                         classifier_fn = prediction_function, \n",
    "                                         top_labels=10, hide_color=0, num_samples=100, segmentation_fn=segmenter)"
   ]
  },
  {
   "cell_type": "code",
   "execution_count": 72,
   "metadata": {
    "colab": {
     "base_uri": "https://localhost:8080/",
     "height": 216
    },
    "colab_type": "code",
    "id": "J68J2wm_TdAb",
    "outputId": "9ec95bc6-cdc0-4136-ae1a-02043fbf565d"
   },
   "outputs": [
    {
     "data": {
      "text/plain": [
       "Text(0.5, 1.0, 'Positive Regions for 7')"
      ]
     },
     "execution_count": 72,
     "metadata": {},
     "output_type": "execute_result"
    },
    {
     "data": {
      "image/png": "[encoded data removed]",
      "text/plain": [
       "<Figure size 432x288 with 1 Axes>"
      ]
     },
     "metadata": {
      "needs_background": "light"
     },
     "output_type": "display_data"
    }
   ],
   "source": [
    "temp, mask = explanation.get_image_and_mask(output, positive_only=True, num_features=10, hide_rest=False, min_weight = 0.01)\n",
    "fig= plt.figure()\n",
    "(ax1) = fig.add_subplot(2,1,1)\n",
    "ax1.imshow(label2rgb(mask,temp, bg_label = 0), interpolation = 'nearest')\n",
    "ax1.set_title('Positive Regions for {}'.format(output))"
   ]
  },
  {
   "cell_type": "code",
   "execution_count": 73,
   "metadata": {
    "colab": {},
    "colab_type": "code",
    "id": "SAlxjfDhTntr"
   },
   "outputs": [],
   "source": [
    "fig.savefig(\"noisy_input_explanation.jpeg\")"
   ]
  },
  {
   "cell_type": "code",
   "execution_count": 74,
   "metadata": {
    "colab": {},
    "colab_type": "code",
    "id": "qF2xHvt8UDvG"
   },
   "outputs": [],
   "source": [
    "import cv2\n",
    "img = cv2.imread('noisy_input_explanation.jpeg')"
   ]
  },
  {
   "cell_type": "code",
   "execution_count": 75,
   "metadata": {
    "colab": {
     "base_uri": "https://localhost:8080/",
     "height": 34
    },
    "colab_type": "code",
    "id": "rammWHVzUG1G",
    "outputId": "04d0a5f4-edee-41cd-b58a-299c6a3eb06a"
   },
   "outputs": [
    {
     "data": {
      "text/plain": [
       "(288, 432, 3)"
      ]
     },
     "execution_count": 75,
     "metadata": {},
     "output_type": "execute_result"
    }
   ],
   "source": [
    "img.shape"
   ]
  },
  {
   "cell_type": "code",
   "execution_count": 76,
   "metadata": {
    "colab": {},
    "colab_type": "code",
    "id": "Cs1FzzwCUIOI"
   },
   "outputs": [],
   "source": [
    "img2 = cv2.imread('sample_input_explanation.jpeg')"
   ]
  },
  {
   "cell_type": "code",
   "execution_count": 77,
   "metadata": {
    "colab": {
     "base_uri": "https://localhost:8080/",
     "height": 34
    },
    "colab_type": "code",
    "id": "r2jOTDF5UMGq",
    "outputId": "c9905d82-23fb-47ad-81fe-181d5b164560"
   },
   "outputs": [
    {
     "data": {
      "text/plain": [
       "(288, 432, 3)"
      ]
     },
     "execution_count": 77,
     "metadata": {},
     "output_type": "execute_result"
    }
   ],
   "source": [
    "img2.shape"
   ]
  },
  {
   "cell_type": "code",
   "execution_count": 78,
   "metadata": {
    "colab": {
     "base_uri": "https://localhost:8080/",
     "height": 361
    },
    "colab_type": "code",
    "id": "aRNTbJybUNQw",
    "outputId": "ca8af7ac-23f9-4ce4-b12b-4745a20efea7"
   },
   "outputs": [
    {
     "name": "stderr",
     "output_type": "stream",
     "text": [
      "C:\\Users\\Administrator\\anaconda3\\envs\\tensorflow_env\\lib\\site-packages\\ipykernel_launcher.py:17: UserWarning: DEPRECATED: skimage.measure.compare_ssim has been moved to skimage.metrics.structural_similarity. It will be removed from skimage.measure in version 0.18.\n"
     ]
    },
    {
     "data": {
      "image/png": "[encoded data removed]",
      "text/plain": [
       "<Figure size 432x288 with 2 Axes>"
      ]
     },
     "metadata": {
      "needs_background": "light"
     },
     "output_type": "display_data"
    }
   ],
   "source": [
    "mse2,s2= compare_images(img,img2,\"Explanation Difference\")"
   ]
  },
  {
   "cell_type": "code",
   "execution_count": 79,
   "metadata": {
    "colab": {},
    "colab_type": "code",
    "id": "4DQUOCCIUS8h"
   },
   "outputs": [],
   "source": [
    "#stability score for the current image\n",
    "# stability = change in the explanation / change in the input\n",
    "stability = mse2/mse1"
   ]
  },
  {
   "cell_type": "code",
   "execution_count": 80,
   "metadata": {
    "colab": {
     "base_uri": "https://localhost:8080/",
     "height": 34
    },
    "colab_type": "code",
    "id": "l5Cf9cZ1VUE6",
    "outputId": "1d105f0a-2783-46a0-b566-b87e1006b694"
   },
   "outputs": [
    {
     "data": {
      "text/plain": [
       "0.24110422425717298"
      ]
     },
     "execution_count": 80,
     "metadata": {},
     "output_type": "execute_result"
    }
   ],
   "source": [
    "stability"
   ]
  },
  {
   "cell_type": "code",
   "execution_count": 81,
   "metadata": {
    "colab": {},
    "colab_type": "code",
    "id": "BHERR-_ZVgL-"
   },
   "outputs": [],
   "source": [
    "#To find the average stability of the model\n",
    "#we can run over all the test images"
   ]
  },
  {
   "cell_type": "code",
   "execution_count": null,
   "metadata": {},
   "outputs": [],
   "source": []
  }
 ],
 "metadata": {
  "accelerator": "GPU",
  "colab": {
   "collapsed_sections": [],
   "name": "CNN With Mnist Images",
   "provenance": [],
   "version": "0.3.2"
  },
  "kernelspec": {
   "display_name": "Python 3",
   "language": "python",
   "name": "python3"
  },
  "language_info": {
   "codemirror_mode": {
    "name": "ipython",
    "version": 3
   },
   "file_extension": ".py",
   "mimetype": "text/x-python",
   "name": "python",
   "nbconvert_exporter": "python",
   "pygments_lexer": "ipython3",
   "version": "3.7.7"
  }
 },
 "nbformat": 4,
 "nbformat_minor": 1
}
